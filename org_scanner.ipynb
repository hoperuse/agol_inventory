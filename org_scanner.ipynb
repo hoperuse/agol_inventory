{
 "cells": [
  {
   "cell_type": "markdown",
   "metadata": {},
   "source": [
    "# AGOL Inventory Tool\n",
    "This tool will scan your ArcGIS Online org and report out on users, groups, and items.\n",
    "\n",
    "For more information, go to [this site](https://dancranford.github.io)"
   ]
  },
  {
   "cell_type": "code",
   "execution_count": 1,
   "metadata": {},
   "outputs": [],
   "source": [
    "from agol_inventory import *"
   ]
  },
  {
   "cell_type": "markdown",
   "metadata": {},
   "source": [
    "Enter your login information for ArcGIS Online"
   ]
  },
  {
   "cell_type": "code",
   "execution_count": 2,
   "metadata": {},
   "outputs": [],
   "source": [
    "# Enter built in credentials in this cell"
   ]
  },
  {
   "cell_type": "code",
   "execution_count": 3,
   "metadata": {},
   "outputs": [],
   "source": [
    "import arcgis\n",
    "session_gis = arcgis.GIS(url=URL, username=USERNAME,password=PASSWORD)"
   ]
  },
  {
   "cell_type": "markdown",
   "metadata": {},
   "source": [
    "Let the tool scan your ArcGIS Online organization.  These functions use threading, meaning that they can scan multiple items/users/groups at once.  If you're scanning an ArcGIS Online organization, you shouldn't need to change anything.  If you're scanning ArcGIS Portal (Enterprise), you may have to decrease the thread count."
   ]
  },
  {
   "cell_type": "code",
   "execution_count": 4,
   "metadata": {},
   "outputs": [
    {
     "name": "stdout",
     "output_type": "stream",
     "text": [
      "Scanning Groups...\n",
      "Scanning Users...\n",
      "Scanning Items...\n"
     ]
    }
   ],
   "source": [
    "inventory_dict = set_up_dict_lists()\n",
    "\n",
    "# number of threads to run.  \n",
    "# For ArcGIS Online, 15 is safe.\n",
    "# For ArcGIS Portal, you may want to decrease the thread count\n",
    "thread_count = 15\n",
    "\n",
    "print('Scanning Groups...')\n",
    "group_scan(session_gis, inventory_dict, thread_count)\n",
    "\n",
    "print('Scanning Users...')\n",
    "folder_dict = user_scan(session_gis, inventory_dict, thread_count)\n",
    "\n",
    "print('Scanning Items...')\n",
    "item_scan(session_gis, inventory_dict, folder_dict, thread_count)"
   ]
  },
  {
   "cell_type": "markdown",
   "metadata": {},
   "source": [
    "Output the results of your scan.  You'll get the most comprehensive results if you output to SQLITE.  There are some views built on the relational database model that this tool creates.  You can also output to excel."
   ]
  },
  {
   "cell_type": "code",
   "execution_count": 5,
   "metadata": {},
   "outputs": [],
   "source": [
    "out_database = r'./inventory.sqlite'\n",
    "\n",
    "output_to_sqlite(inventory_dict, out_database)"
   ]
  }
 ],
 "metadata": {
  "kernelspec": {
   "display_name": "Python 3",
   "language": "python",
   "name": "python3"
  },
  "language_info": {
   "codemirror_mode": {
    "name": "ipython",
    "version": 3
   },
   "file_extension": ".py",
   "mimetype": "text/x-python",
   "name": "python",
   "nbconvert_exporter": "python",
   "pygments_lexer": "ipython3",
   "version": "3.9.13"
  },
  "pycharm": {
   "stem_cell": {
    "cell_type": "raw",
    "metadata": {
     "collapsed": false
    },
    "source": []
   }
  }
 },
 "nbformat": 4,
 "nbformat_minor": 2
}
